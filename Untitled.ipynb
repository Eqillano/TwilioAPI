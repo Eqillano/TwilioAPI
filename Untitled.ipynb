{
 "cells": [
  {
   "cell_type": "code",
   "execution_count": 3,
   "metadata": {},
   "outputs": [
    {
     "name": "stdout",
     "output_type": "stream",
     "text": [
      "What's the Twilio Account SID?········\n",
      "What's the Twilio Secret?········\n"
     ]
    }
   ],
   "source": [
    "import json\n",
    "from getpass import getpass\n",
    "\n",
    "reset_creds = False\n",
    "\n",
    "if reset_creds:\n",
    "    twilio_sid = getpass(\"What's the Twilio Account SID?\")\n",
    "    twilio_secret = getpass(\"What's the Twilio Secret?\")\n",
    "    '''\n",
    "    This will save our creds from above (blank or not) to a local file\n",
    "    named `creds.json` so we can re-use this credentials.\n",
    "    '''\n",
    "    data = {\n",
    "        \"twilio_sid\": twilio_sid,\n",
    "        \"twilio_secret\": twilio_secret\n",
    "    }\n",
    "    json_data = json.dumps(data)\n",
    "    with open('creds.json', 'w') as f:\n",
    "        f.write(json_data)"
   ]
  },
  {
   "cell_type": "code",
   "execution_count": 5,
   "metadata": {},
   "outputs": [
    {
     "name": "stdout",
     "output_type": "stream",
     "text": [
      "Collecting twilio\n",
      "  Downloading twilio-6.44.0.tar.gz (433 kB)\n",
      "Requirement already satisfied: six in c:\\programdata\\anaconda3\\lib\\site-packages (from twilio) (1.14.0)\n",
      "Requirement already satisfied: pytz in c:\\programdata\\anaconda3\\lib\\site-packages (from twilio) (2019.3)\n",
      "Requirement already satisfied: PyJWT>=1.4.2 in c:\\programdata\\anaconda3\\lib\\site-packages (from twilio) (1.7.1)\n",
      "Requirement already satisfied: requests>=2.0.0 in c:\\programdata\\anaconda3\\lib\\site-packages (from twilio) (2.22.0)\n",
      "Requirement already satisfied: urllib3!=1.25.0,!=1.25.1,<1.26,>=1.21.1 in c:\\programdata\\anaconda3\\lib\\site-packages (from requests>=2.0.0->twilio) (1.25.8)\n",
      "Requirement already satisfied: chardet<3.1.0,>=3.0.2 in c:\\programdata\\anaconda3\\lib\\site-packages (from requests>=2.0.0->twilio) (3.0.4)\n",
      "Requirement already satisfied: certifi>=2017.4.17 in c:\\programdata\\anaconda3\\lib\\site-packages (from requests>=2.0.0->twilio) (2019.11.28)\n",
      "Requirement already satisfied: idna<2.9,>=2.5 in c:\\programdata\\anaconda3\\lib\\site-packages (from requests>=2.0.0->twilio) (2.8)\n",
      "Building wheels for collected packages: twilio\n",
      "  Building wheel for twilio (setup.py): started\n",
      "  Building wheel for twilio (setup.py): finished with status 'done'\n",
      "  Created wheel for twilio: filename=twilio-6.44.0-py2.py3-none-any.whl size=1143779 sha256=d35d53c0baa9905f1ff048d6b3524d431a05c1479c108f503150bc6a99368df3\n",
      "  Stored in directory: c:\\users\\thea2\\appdata\\local\\pip\\cache\\wheels\\6a\\bc\\51\\289d67f1eb2af6a807c1564ab2e410b9075bab6d08c30c1292\n",
      "Successfully built twilio\n",
      "Installing collected packages: twilio\n",
      "Successfully installed twilio-6.44.0\n",
      "Note: you may need to restart the kernel to use updated packages.\n"
     ]
    }
   ],
   "source": [
    "#pip install twilio"
   ]
  },
  {
   "cell_type": "code",
   "execution_count": null,
   "metadata": {},
   "outputs": [],
   "source": [
    "twillio_sid = ''\n",
    "twillio_secret = ''\n",
    "with open('creds.json','r') as f:\n",
    "    raw_data = f.read()\n",
    "    cred_data = json.loads(row_data)\n",
    "    twillio_sid = cred_data.get('twillio_sid')\n",
    "    twillio_secret = cred_data.get('twillio_secret')\n",
    "    "
   ]
  },
  {
   "cell_type": "code",
   "execution_count": 7,
   "metadata": {},
   "outputs": [],
   "source": [
    "from twilio.rest import Client\n",
    "\n",
    "client = Client(twilio_sid,twilio_secret)"
   ]
  },
  {
   "cell_type": "code",
   "execution_count": 9,
   "metadata": {},
   "outputs": [],
   "source": [
    "my_number = '+12513060877'\n",
    "other_number = '+79049038386'\n"
   ]
  },
  {
   "cell_type": "code",
   "execution_count": 14,
   "metadata": {},
   "outputs": [],
   "source": [
    "body = 'This is your life now'\n",
    "message_twilio = client.messages.create(\n",
    "body=body,\n",
    "from_ = my_number,\n",
    "to = other_number\n",
    ")\n"
   ]
  },
  {
   "cell_type": "code",
   "execution_count": 16,
   "metadata": {},
   "outputs": [
    {
     "name": "stdout",
     "output_type": "stream",
     "text": [
      "0 Sent from your Twilio trial account - This is your life now +79049038386 +12513060877\n",
      "1 Sent from your Twilio trial account - Hello World again , you are rekt +79049038386 +12513060877\n",
      "2 Sent from your Twilio trial account - Hello World +79049038386 +12513060877\n"
     ]
    }
   ],
   "source": [
    "messages = client.messages.list(limit=20)\n",
    "\n",
    "for i,record in enumerate(messages):\n",
    "    from_ = record.from_\n",
    "    to = record.to\n",
    "    print(i,record.body,to,from_)"
   ]
  },
  {
   "cell_type": "code",
   "execution_count": null,
   "metadata": {},
   "outputs": [],
   "source": []
  }
 ],
 "metadata": {
  "kernelspec": {
   "display_name": "Python 3",
   "language": "python",
   "name": "python3"
  },
  "language_info": {
   "codemirror_mode": {
    "name": "ipython",
    "version": 3
   },
   "file_extension": ".py",
   "mimetype": "text/x-python",
   "name": "python",
   "nbconvert_exporter": "python",
   "pygments_lexer": "ipython3",
   "version": "3.7.6"
  }
 },
 "nbformat": 4,
 "nbformat_minor": 4
}
